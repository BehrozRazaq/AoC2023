{
 "cells": [
  {
   "cell_type": "code",
   "execution_count": 24,
   "metadata": {},
   "outputs": [
    {
     "data": {
      "text/plain": [
       "28545089"
      ]
     },
     "execution_count": 24,
     "metadata": {},
     "output_type": "execute_result"
    }
   ],
   "source": [
    "grek: list[str] =data.split('\\n')\n",
    "# times = []\n",
    "# for row in grek:\n",
    "#     times.append([])\n",
    "#     c_time = times[-1]\n",
    "#     for val in row.split(' '):\n",
    "#         if val.isnumeric():\n",
    "#             c_time.append(int(val))\n",
    "\n",
    "times = []\n",
    "for row in grek:\n",
    "    times.append([])\n",
    "    times[-1].append(int(row.replace(' ', '').split(':')[1]))\n",
    "\n",
    "\n",
    "\n",
    "\n",
    "breakers = []\n",
    "for i, time in enumerate(times[0]):\n",
    "    record = times[1][i]\n",
    "    breakers.append([])\n",
    "    for hold in range(time):\n",
    "        if hold * (time - hold) > record:\n",
    "            breakers[i].append(hold)\n",
    "moe = 1\n",
    "for race in breakers:\n",
    "    moe *= len(race)\n",
    "moe\n",
    "\n"
   ]
  },
  {
   "cell_type": "code",
   "execution_count": 1,
   "metadata": {},
   "outputs": [],
   "source": [
    "test_data= \"\"\"Time:      7  15   30\n",
    "Distance:  9  40  200\"\"\"\n",
    "\n",
    "data = \"\"\"Time:        40     92     97     90\n",
    "Distance:   215   1064   1505   1100\"\"\""
   ]
  }
 ],
 "metadata": {
  "kernelspec": {
   "display_name": "Python 3",
   "language": "python",
   "name": "python3"
  },
  "language_info": {
   "codemirror_mode": {
    "name": "ipython",
    "version": 3
   },
   "file_extension": ".py",
   "mimetype": "text/x-python",
   "name": "python",
   "nbconvert_exporter": "python",
   "pygments_lexer": "ipython3",
   "version": "3.11.6"
  }
 },
 "nbformat": 4,
 "nbformat_minor": 2
}
